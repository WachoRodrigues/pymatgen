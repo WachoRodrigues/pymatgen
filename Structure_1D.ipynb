{
 "cells": [
  {
   "cell_type": "code",
   "execution_count": 1,
   "metadata": {},
   "outputs": [],
   "source": [
    "import numpy as np\n",
    "import pandas as pd\n",
    "import math\n",
    "import pymatgen as mg\n",
    "from pymatgen.transformations.standard_transformations import RemoveSpeciesTransformation\n",
    "from pymatgen.transformations.standard_transformations import SupercellTransformation"
   ]
  },
  {
   "cell_type": "code",
   "execution_count": 22,
   "metadata": {},
   "outputs": [
    {
     "name": "stdout",
     "output_type": "stream",
     "text": [
      "[8.0816, 12.390599999999997, 12.9013]\n",
      "16\n",
      "11\n",
      "[ 4.04  8.08 12.06 12.38 12.39 12.9  13.04 13.15 15.29 15.45 16.62]\n"
     ]
    }
   ],
   "source": [
    "structure = mg.Structure.from_file(\"cif/1D/1555295.cif\")\n",
    "\n",
    "cell = [structure.lattice.a, structure.lattice.b, structure.lattice.c]\n",
    "print(cell)\n",
    "\n",
    "u = SupercellTransformation(scaling_matrix=((2, 0, 0), (0, 2, 0), (0, 0, 2)))\n",
    "supercell = u.apply_transformation(structure)\n",
    "\n",
    "t = RemoveSpeciesTransformation([\"H\", \"C\", \"N\", \"S\", \"O\", \"I\"])\n",
    "modified_structure = t.apply_transformation(supercell)\n",
    "\n",
    "print(len(modified_structure))\n",
    "\n",
    "# Pb-Pb distances in a table\n",
    "\n",
    "dumb = np.array([modified_structure.get_distance(0, i) for i in range(1, len(modified_structure))])\n",
    "# around\n",
    "dumb1 = np.around(dumb,decimals=2)\n",
    "# remove duplicates\n",
    "dumb2 = np.array(list(set(dumb1)))\n",
    "# sort values\n",
    "dist_lst = np.sort(dumb2)\n",
    "print(len(dist_lst))\n",
    "print(dist_lst)"
   ]
  },
  {
   "cell_type": "code",
   "execution_count": 23,
   "metadata": {},
   "outputs": [
    {
     "name": "stdout",
     "output_type": "stream",
     "text": [
      "4.04\n"
     ]
    }
   ],
   "source": [
    "# Find d_min = shortest Pb-Pb bond\n",
    "# Usually around 4.06 in 1D\n",
    "d_min = min(dist_lst)\n",
    "print(d_min)\n",
    "\n",
    "#for i in range(0, len(dist_lst)-1):\n",
    "#    a = round(dist_lst[i]**2, 2)\n",
    "#    b = round(dist_lst[i+1]**2 - d_min**2, 2)\n",
    "#    #print(a, b)\n",
    "#    print(math.isclose(a, b, abs_tol = 0.2))\n",
    "\n",
    "# Remove duplicate distances due to short Pb-Pb distances    \n",
    "def duplicates(dist_lst):\n",
    "    for i in range(0, len(dist_lst)-1):\n",
    "        a = round(dist_lst[i]**2, 2)\n",
    "        b = round(dist_lst[i+1]**2 - d_min**2, 2)\n",
    "        if math.isclose(a, b, abs_tol = 0.2):\n",
    "            dist_lst[i+1] = dist_lst[i]\n",
    "    return dist_lst"
   ]
  },
  {
   "cell_type": "code",
   "execution_count": 24,
   "metadata": {},
   "outputs": [
    {
     "name": "stdout",
     "output_type": "stream",
     "text": [
      "[ 4.04  8.08 12.06 12.38 12.39 12.9  13.04 13.15 15.29 15.45 16.62]\n"
     ]
    }
   ],
   "source": [
    "dst_lst_new = duplicates(dist_lst)\n",
    "print(dst_lst_new)"
   ]
  },
  {
   "cell_type": "code",
   "execution_count": 28,
   "metadata": {},
   "outputs": [
    {
     "name": "stdout",
     "output_type": "stream",
     "text": [
      "min [12.39 12.06 12.38 12.9  13.04 13.15 15.29 15.45 16.62]\n",
      "12.9013\n",
      "[12.39 12.06 12.38 12.9 ]\n"
     ]
    }
   ],
   "source": [
    "# remove duplicates\n",
    "dumb2 = np.array(list(set(dst_lst_new)))\n",
    "\n",
    "# Crop shortest Pb-Pb and Pb-Pb-Pb bond\n",
    "dist_lst_min = np.delete(dumb2, np.argwhere((dumb2 <= 2*d_min+0.01)))\n",
    "print('min', dist_lst_min)\n",
    "\n",
    "d_max = max(cell)\n",
    "print(d_max)\n",
    "\n",
    "# Crop higher distances list\n",
    "dist_lst_crop = np.delete(dist_lst_min, np.argwhere((dist_lst_min >= d_max+0.01)))\n",
    "print(dist_lst_crop)"
   ]
  },
  {
   "cell_type": "code",
   "execution_count": 29,
   "metadata": {},
   "outputs": [
    {
     "name": "stdout",
     "output_type": "stream",
     "text": [
      "12.39 12.06\n",
      "12.9\n",
      "107.065575 117.1512 41.6025\n"
     ]
    }
   ],
   "source": [
    "# Problem with either the edge or diagonal of the losange\n",
    "# One diagonal is half longer axis\n",
    "a = dist_lst_crop[0]\n",
    "b = dist_lst_crop[1]\n",
    "print(a, b)\n",
    "\n",
    "c = max(dist_lst_crop)\n",
    "print(c)\n",
    "\n",
    "c_test1 = b**2 - (a/2)**2\n",
    "c_test2 = a**2 - (b/2)**2\n",
    "print(c_test1, c_test2, (c/2)**2)\n",
    "\n",
    "if math.isclose(c_test1, (c/2)**2, abs_tol = 0.2):\n",
    "    diag1 = a\n",
    "    diag2 = c\n",
    "    \n",
    "if math.isclose(c_test2, (c/2)**2, abs_tol = 0.2):\n",
    "    diag1 = b\n",
    "    diag2 = c"
   ]
  },
  {
   "cell_type": "code",
   "execution_count": 30,
   "metadata": {},
   "outputs": [
    {
     "ename": "NameError",
     "evalue": "name 'diag1' is not defined",
     "output_type": "error",
     "traceback": [
      "\u001b[1;31m---------------------------------------------------------------------------\u001b[0m",
      "\u001b[1;31mNameError\u001b[0m                                 Traceback (most recent call last)",
      "\u001b[1;32m<ipython-input-30-dc1c422b1659>\u001b[0m in \u001b[0;36m<module>\u001b[1;34m\u001b[0m\n\u001b[0;32m      1\u001b[0m \u001b[1;31m#Surface defined by losange\u001b[0m\u001b[1;33m\u001b[0m\u001b[1;33m\u001b[0m\u001b[1;33m\u001b[0m\u001b[0m\n\u001b[1;32m----> 2\u001b[1;33m \u001b[0mprint\u001b[0m\u001b[1;33m(\u001b[0m\u001b[0mdiag1\u001b[0m\u001b[1;33m,\u001b[0m \u001b[0mdiag2\u001b[0m\u001b[1;33m)\u001b[0m\u001b[1;33m\u001b[0m\u001b[1;33m\u001b[0m\u001b[0m\n\u001b[0m\u001b[0;32m      3\u001b[0m \u001b[0msurf\u001b[0m \u001b[1;33m=\u001b[0m \u001b[0mround\u001b[0m\u001b[1;33m(\u001b[0m\u001b[0mdiag1\u001b[0m\u001b[1;33m*\u001b[0m\u001b[0mdiag2\u001b[0m\u001b[1;33m/\u001b[0m\u001b[1;36m2\u001b[0m \u001b[1;33m,\u001b[0m \u001b[1;36m2\u001b[0m\u001b[1;33m)\u001b[0m\u001b[1;33m\u001b[0m\u001b[1;33m\u001b[0m\u001b[0m\n\u001b[0;32m      4\u001b[0m \u001b[0mprint\u001b[0m\u001b[1;33m(\u001b[0m\u001b[0msurf\u001b[0m\u001b[1;33m,\u001b[0m \u001b[1;34m\"A2\"\u001b[0m\u001b[1;33m)\u001b[0m\u001b[1;33m\u001b[0m\u001b[1;33m\u001b[0m\u001b[0m\n",
      "\u001b[1;31mNameError\u001b[0m: name 'diag1' is not defined"
     ]
    }
   ],
   "source": [
    "#Surface defined by losange\n",
    "print(diag1, diag2)\n",
    "surf = round(diag1*diag2/2 , 2)\n",
    "print(surf, \"A2\")"
   ]
  },
  {
   "cell_type": "code",
   "execution_count": null,
   "metadata": {},
   "outputs": [],
   "source": []
  },
  {
   "cell_type": "code",
   "execution_count": null,
   "metadata": {},
   "outputs": [],
   "source": []
  },
  {
   "cell_type": "code",
   "execution_count": null,
   "metadata": {},
   "outputs": [],
   "source": []
  },
  {
   "cell_type": "code",
   "execution_count": null,
   "metadata": {},
   "outputs": [],
   "source": []
  }
 ],
 "metadata": {
  "kernelspec": {
   "display_name": "Python 3",
   "language": "python",
   "name": "python3"
  },
  "language_info": {
   "codemirror_mode": {
    "name": "ipython",
    "version": 3
   },
   "file_extension": ".py",
   "mimetype": "text/x-python",
   "name": "python",
   "nbconvert_exporter": "python",
   "pygments_lexer": "ipython3",
   "version": "3.7.6"
  }
 },
 "nbformat": 4,
 "nbformat_minor": 4
}
