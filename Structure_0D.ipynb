{
 "cells": [
  {
   "cell_type": "code",
   "execution_count": 1,
   "metadata": {},
   "outputs": [],
   "source": [
    "import numpy as np\n",
    "import pandas as pd\n",
    "import math\n",
    "import pymatgen as mg\n",
    "from pymatgen.transformations.standard_transformations import RemoveSpeciesTransformation\n",
    "from pymatgen.transformations.standard_transformations import SupercellTransformation"
   ]
  },
  {
   "cell_type": "code",
   "execution_count": 2,
   "metadata": {},
   "outputs": [
    {
     "name": "stdout",
     "output_type": "stream",
     "text": [
      "[15.093000000000002, 9.297, 19.142]\n",
      "32\n",
      "15\n",
      "[ 8.86  9.3  10.47 10.64 13.7  14.   15.09 16.22 16.55 17.73 19.14 19.16\n",
      " 20.93 21.28 22.91]\n"
     ]
    }
   ],
   "source": [
    "structure = mg.Structure.from_file(\"cif/0D/2208808.cif\")\n",
    "\n",
    "cell = [structure.lattice.a, structure.lattice.b, structure.lattice.c]\n",
    "print(cell)\n",
    "\n",
    "u = SupercellTransformation(scaling_matrix=((2, 0, 0), (0, 2, 0), (0, 0, 2)))\n",
    "supercell = u.apply_transformation(structure)\n",
    "\n",
    "t = RemoveSpeciesTransformation([\"H\", \"C\", \"N\", \"S\", \"O\", \"I\"])\n",
    "modified_structure = t.apply_transformation(supercell)\n",
    "\n",
    "print(len(modified_structure))\n",
    "\n",
    "# Pb-Pb distances in a table\n",
    "\n",
    "dumb = np.array([modified_structure.get_distance(0, i) for i in range(1, len(modified_structure))])\n",
    "# around\n",
    "dumb1 = np.around(dumb,decimals=2)\n",
    "# remove duplicates\n",
    "dumb2 = np.array(list(set(dumb1)))\n",
    "# sort values\n",
    "dist_lst = np.sort(dumb2)\n",
    "print(len(dist_lst))\n",
    "print(dist_lst)"
   ]
  },
  {
   "cell_type": "code",
   "execution_count": 19,
   "metadata": {},
   "outputs": [
    {
     "name": "stdout",
     "output_type": "stream",
     "text": [
      "8.86\n",
      "9.3\n",
      "[8.86 9.3 ]\n"
     ]
    }
   ],
   "source": [
    "# Find d_min = shortest Pb-Pb bond\n",
    "d_min = min(dist_lst)\n",
    "print(d_min)\n",
    "\n",
    "# Crop higher distance list\n",
    "d_max = round(min(cell),2)\n",
    "print(d_max)\n",
    "\n",
    "dist_lst_min = np.delete(dist_lst, np.argwhere((dist_lst > d_max)))\n",
    "print(dist_lst_min)\n",
    "\n",
    "# Crop higher distances list\n",
    "#d_max = 11\n",
    "#dist_lst_max = np.delete(dist_lst_min, np.argwhere((dist_lst_min > d_max)))\n",
    "#print(dist_lst_max)"
   ]
  },
  {
   "cell_type": "code",
   "execution_count": 20,
   "metadata": {},
   "outputs": [
    {
     "name": "stdout",
     "output_type": "stream",
     "text": [
      "9.08\n",
      "Cube volume 748.61 A3\n",
      "Empty volume 374.3 A3\n"
     ]
    }
   ],
   "source": [
    "# Volume approximated by cube\n",
    "a = np.mean(dist_lst_min)\n",
    "print(a)\n",
    "vol_cube = round(a*a*a, 2 )\n",
    "print(\"Cube volume\", vol_cube, \"A3\")\n",
    "vol_empty = round(vol_cube/2 , 2 )\n",
    "print(\"Empty volume\", vol_empty, \"A3\")"
   ]
  },
  {
   "cell_type": "code",
   "execution_count": 5,
   "metadata": {},
   "outputs": [
    {
     "name": "stdout",
     "output_type": "stream",
     "text": [
      "19.3509\n"
     ]
    }
   ],
   "source": []
  },
  {
   "cell_type": "code",
   "execution_count": 22,
   "metadata": {},
   "outputs": [],
   "source": [
    "# Remove distances due to small structural distortions   \n",
    "disto = 0.1 #Angstrom\n",
    "def distortions(dist_lst):\n",
    "    for i in range(0, len(dist_lst)-1):\n",
    "        a = round(dist_lst[i], 2)\n",
    "        b = round(dist_lst[i+1], 2)\n",
    "        if math.isclose(a, b, abs_tol = disto):\n",
    "            dist_lst[i+1] = dist_lst[i]\n",
    "    return dist_lst"
   ]
  },
  {
   "cell_type": "code",
   "execution_count": 23,
   "metadata": {},
   "outputs": [
    {
     "name": "stdout",
     "output_type": "stream",
     "text": [
      "[ 9.36  9.36 10.06 10.06 13.09 14.3  16.17 16.17 16.8  17.38 19.35 19.35\n",
      " 22.03 23.36 25.63]\n"
     ]
    }
   ],
   "source": [
    "dst_lst_new = distortions(dist_lst)\n",
    "print(dst_lst_new)"
   ]
  },
  {
   "cell_type": "code",
   "execution_count": null,
   "metadata": {},
   "outputs": [],
   "source": []
  }
 ],
 "metadata": {
  "kernelspec": {
   "display_name": "Python 3",
   "language": "python",
   "name": "python3"
  },
  "language_info": {
   "codemirror_mode": {
    "name": "ipython",
    "version": 3
   },
   "file_extension": ".py",
   "mimetype": "text/x-python",
   "name": "python",
   "nbconvert_exporter": "python",
   "pygments_lexer": "ipython3",
   "version": "3.7.6"
  }
 },
 "nbformat": 4,
 "nbformat_minor": 4
}
