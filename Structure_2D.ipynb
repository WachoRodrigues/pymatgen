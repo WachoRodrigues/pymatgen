{
 "cells": [
  {
   "cell_type": "code",
   "execution_count": 1,
   "metadata": {},
   "outputs": [],
   "source": [
    "import numpy as np\n",
    "import pandas as pd\n",
    "import math\n",
    "import pymatgen as mg\n",
    "from pymatgen.transformations.standard_transformations import RemoveSpeciesTransformation\n",
    "from pymatgen.transformations.standard_transformations import SupercellTransformation"
   ]
  },
  {
   "cell_type": "code",
   "execution_count": 2,
   "metadata": {},
   "outputs": [
    {
     "name": "stdout",
     "output_type": "stream",
     "text": [
      "[9.0651, 8.8852, 33.617]\n",
      "32\n",
      "13\n",
      "[ 6.35  8.89  9.07 12.69 17.39 17.41 19.55 19.61 33.62 34.21 34.77 34.82\n",
      " 35.93]\n"
     ]
    }
   ],
   "source": [
    "structure = mg.Structure.from_file(\"cif/2D/1544657.cif\")\n",
    "\n",
    "cell = [structure.lattice.a, structure.lattice.b, structure.lattice.c]\n",
    "print(cell)\n",
    "\n",
    "u = SupercellTransformation(scaling_matrix=((2, 0, 0), (0, 2, 0), (0, 0, 2)))\n",
    "supercell = u.apply_transformation(structure)\n",
    "\n",
    "t = RemoveSpeciesTransformation([\"H\", \"C\", \"N\", \"S\", \"O\", \"I\"])\n",
    "modified_structure = t.apply_transformation(supercell)\n",
    "\n",
    "print(len(modified_structure))\n",
    "\n",
    "# Pb-Pb distances in a table\n",
    "\n",
    "dumb = np.array([modified_structure.get_distance(0, i) for i in range(1, len(modified_structure))])\n",
    "# around\n",
    "dumb1 = np.around(dumb,decimals=2)\n",
    "# remove duplicates\n",
    "dumb2 = np.array(list(set(dumb1)))\n",
    "# sort values\n",
    "dist_lst = np.sort(dumb2)\n",
    "print(len(dist_lst))\n",
    "print(dist_lst)"
   ]
  },
  {
   "cell_type": "code",
   "execution_count": 3,
   "metadata": {},
   "outputs": [],
   "source": [
    "# Remove distances due to small structural distortions   \n",
    "disto = 0.5 #Angstrom\n",
    "def distortions(dist_lst):\n",
    "    for i in range(0, len(dist_lst)-1):\n",
    "        a = round(dist_lst[i], 2)\n",
    "        b = round(dist_lst[i+1], 2)\n",
    "        if math.isclose(a, b, abs_tol = disto):\n",
    "            dist_lst[i+1] = dist_lst[i]\n",
    "    return dist_lst"
   ]
  },
  {
   "cell_type": "code",
   "execution_count": 10,
   "metadata": {},
   "outputs": [
    {
     "name": "stdout",
     "output_type": "stream",
     "text": [
      "distortions [ 6.35  8.89  8.89 12.69 17.39 17.39 19.55 19.55 33.62 34.21 34.77 34.77\n",
      " 35.93]\n",
      "[ 6.35  8.89 12.69 17.39 19.55 33.62 34.21 34.77 35.93]\n"
     ]
    }
   ],
   "source": [
    "dumb3 = distortions(dist_lst)\n",
    "print('distortions',dumb3)\n",
    "# remove duplicates\n",
    "dumb4 = np.array(list(set(dumb3)))\n",
    "\n",
    "# sort values\n",
    "dist_lst_new = np.sort(dumb4)\n",
    "print(dist_lst_new)"
   ]
  },
  {
   "cell_type": "code",
   "execution_count": 11,
   "metadata": {},
   "outputs": [
    {
     "name": "stdout",
     "output_type": "stream",
     "text": [
      "6.35\n",
      "min [33.62 34.21 34.77 35.93 12.69 17.39 19.55]\n",
      "crop [12.69 17.39 19.55]\n"
     ]
    }
   ],
   "source": [
    "# In 2D interlayer spacing always > 2 d_min\n",
    "# Find d_min = shortest Pb-Pb bond\n",
    "# Usually around 6.3 in 2D\n",
    "d_min = min(dst_lst_new)\n",
    "print(d_min)\n",
    "\n",
    "dist_lst_min = np.delete(dst_lst_new, np.argwhere((dst_lst_new < d_min*math.sqrt(2)+0.1)))\n",
    "print('min', dist_lst_min)\n",
    "\n",
    "# distance always smaller than largerest cell param - d_min\n",
    "cell_max = max(cell)\n",
    "dist_lst_crop = np.delete(dist_lst_min, np.argwhere((dist_lst_min >= cell_max)))\n",
    "print('crop', dist_lst_crop)"
   ]
  },
  {
   "cell_type": "code",
   "execution_count": 6,
   "metadata": {},
   "outputs": [],
   "source": [
    "# Remove duplicate distances due to short Pb-Pb distances    \n",
    "def duplicates(dist_lst):\n",
    "    for i in range(0, len(dist_lst)-1):\n",
    "        a = round(dist_lst[i]**2, 2)\n",
    "        b = round(dist_lst[i+1]**2 - d_min**2, 2)\n",
    "        if math.isclose(a, b, abs_tol = 0.2):\n",
    "            dist_lst[i+1] = dist_lst[i]\n",
    "    return dist_lst"
   ]
  },
  {
   "cell_type": "code",
   "execution_count": null,
   "metadata": {},
   "outputs": [],
   "source": []
  },
  {
   "cell_type": "code",
   "execution_count": null,
   "metadata": {},
   "outputs": [],
   "source": []
  },
  {
   "cell_type": "code",
   "execution_count": null,
   "metadata": {},
   "outputs": [],
   "source": []
  },
  {
   "cell_type": "code",
   "execution_count": null,
   "metadata": {},
   "outputs": [],
   "source": []
  },
  {
   "cell_type": "code",
   "execution_count": null,
   "metadata": {},
   "outputs": [],
   "source": []
  },
  {
   "cell_type": "code",
   "execution_count": null,
   "metadata": {},
   "outputs": [],
   "source": []
  }
 ],
 "metadata": {
  "kernelspec": {
   "display_name": "Python 3",
   "language": "python",
   "name": "python3"
  },
  "language_info": {
   "codemirror_mode": {
    "name": "ipython",
    "version": 3
   },
   "file_extension": ".py",
   "mimetype": "text/x-python",
   "name": "python",
   "nbconvert_exporter": "python",
   "pygments_lexer": "ipython3",
   "version": "3.7.6"
  }
 },
 "nbformat": 4,
 "nbformat_minor": 4
}
